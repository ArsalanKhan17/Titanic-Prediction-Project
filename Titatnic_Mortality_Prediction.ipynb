{
  "nbformat": 4,
  "nbformat_minor": 0,
  "metadata": {
    "colab": {
      "name": "Titatnic Mortality Prediction.ipynb",
      "provenance": [],
      "collapsed_sections": [],
      "include_colab_link": true
    },
    "kernelspec": {
      "name": "python3",
      "display_name": "Python 3"
    }
  },
  "cells": [
    {
      "cell_type": "markdown",
      "metadata": {
        "id": "view-in-github",
        "colab_type": "text"
      },
      "source": [
        "<a href=\"https://colab.research.google.com/github/ArsalanKhan17/Titanic-Prediction-Project/blob/main/Titatnic_Mortality_Prediction.ipynb\" target=\"_parent\"><img src=\"https://colab.research.google.com/assets/colab-badge.svg\" alt=\"Open In Colab\"/></a>"
      ]
    },
    {
      "cell_type": "markdown",
      "metadata": {
        "id": "gYNp684Tk3tb"
      },
      "source": [
        "<p align=\"center\"><h1 align=\"center\">Titanic Dataset Classification Tutorial</h1>\n",
        "\n",
        "\n",
        "---\n",
        "\n"
      ]
    },
    {
      "cell_type": "markdown",
      "metadata": {
        "id": "GyskXyNqmBgy"
      },
      "source": [
        "## **(1) Preprocessor Function & Setup**\n",
        "\n",
        "> ### A more advanced example demonstrating the flexibility of a new *Column Transformer* approach."
      ]
    },
    {
      "cell_type": "code",
      "metadata": {
        "id": "d7oxnMcx-rkE"
      },
      "source": [
        "# note that tabular preprocessors require scikit-learn>=0.24.0\n",
        "!pip install scikit-learn --upgrade \n",
        "\n",
        "% tensorflow_version 1.x"
      ],
      "execution_count": null,
      "outputs": []
    },
    {
      "cell_type": "code",
      "metadata": {
        "id": "oemrLaHgs2OL",
        "colab": {
          "base_uri": "https://localhost:8080/",
          "height": 294
        },
        "outputId": "c3b0cb37-e7c6-42d8-aea6-b94f403564e3"
      },
      "source": [
        "import pandas as pd\n",
        "import numpy as np\n",
        "\n",
        "from sklearn.compose import ColumnTransformer\n",
        "from sklearn.pipeline import Pipeline\n",
        "from sklearn.impute import SimpleImputer\n",
        "from sklearn.preprocessing import StandardScaler, OneHotEncoder\n",
        "from sklearn.linear_model import LogisticRegression\n",
        "from sklearn.model_selection import train_test_split, GridSearchCV\n",
        "\n",
        "np.random.seed(0)\n",
        "\n",
        "# Read data from Titanic dataset.\n",
        "titanic_url = ('https://raw.githubusercontent.com/amueller/'\n",
        "               'scipy-2017-sklearn/091d371/notebooks/datasets/titanic3.csv')\n",
        "data = pd.read_csv(titanic_url)\n",
        "\n",
        "# We will train our classifier with the following features:\n",
        "# Numeric Features:\n",
        "# - age: float.\n",
        "# - fare: float.\n",
        "# Categorical Features:\n",
        "# - embarked: categories encoded as strings {'C', 'S', 'Q'}.\n",
        "# - sex: categories encoded as strings {'female', 'male'}.\n",
        "# - pclass: ordinal integers {1, 2, 3}.\n",
        "\n",
        "print(data.shape)\n",
        "\n",
        "data.head()"
      ],
      "execution_count": 2,
      "outputs": [
        {
          "output_type": "stream",
          "name": "stdout",
          "text": [
            "(1309, 14)\n"
          ]
        },
        {
          "output_type": "execute_result",
          "data": {
            "text/html": [
              "<div>\n",
              "<style scoped>\n",
              "    .dataframe tbody tr th:only-of-type {\n",
              "        vertical-align: middle;\n",
              "    }\n",
              "\n",
              "    .dataframe tbody tr th {\n",
              "        vertical-align: top;\n",
              "    }\n",
              "\n",
              "    .dataframe thead th {\n",
              "        text-align: right;\n",
              "    }\n",
              "</style>\n",
              "<table border=\"1\" class=\"dataframe\">\n",
              "  <thead>\n",
              "    <tr style=\"text-align: right;\">\n",
              "      <th></th>\n",
              "      <th>pclass</th>\n",
              "      <th>survived</th>\n",
              "      <th>name</th>\n",
              "      <th>sex</th>\n",
              "      <th>age</th>\n",
              "      <th>sibsp</th>\n",
              "      <th>parch</th>\n",
              "      <th>ticket</th>\n",
              "      <th>fare</th>\n",
              "      <th>cabin</th>\n",
              "      <th>embarked</th>\n",
              "      <th>boat</th>\n",
              "      <th>body</th>\n",
              "      <th>home.dest</th>\n",
              "    </tr>\n",
              "  </thead>\n",
              "  <tbody>\n",
              "    <tr>\n",
              "      <th>0</th>\n",
              "      <td>1</td>\n",
              "      <td>1</td>\n",
              "      <td>Allen, Miss. Elisabeth Walton</td>\n",
              "      <td>female</td>\n",
              "      <td>29.0000</td>\n",
              "      <td>0</td>\n",
              "      <td>0</td>\n",
              "      <td>24160</td>\n",
              "      <td>211.3375</td>\n",
              "      <td>B5</td>\n",
              "      <td>S</td>\n",
              "      <td>2</td>\n",
              "      <td>NaN</td>\n",
              "      <td>St Louis, MO</td>\n",
              "    </tr>\n",
              "    <tr>\n",
              "      <th>1</th>\n",
              "      <td>1</td>\n",
              "      <td>1</td>\n",
              "      <td>Allison, Master. Hudson Trevor</td>\n",
              "      <td>male</td>\n",
              "      <td>0.9167</td>\n",
              "      <td>1</td>\n",
              "      <td>2</td>\n",
              "      <td>113781</td>\n",
              "      <td>151.5500</td>\n",
              "      <td>C22 C26</td>\n",
              "      <td>S</td>\n",
              "      <td>11</td>\n",
              "      <td>NaN</td>\n",
              "      <td>Montreal, PQ / Chesterville, ON</td>\n",
              "    </tr>\n",
              "    <tr>\n",
              "      <th>2</th>\n",
              "      <td>1</td>\n",
              "      <td>0</td>\n",
              "      <td>Allison, Miss. Helen Loraine</td>\n",
              "      <td>female</td>\n",
              "      <td>2.0000</td>\n",
              "      <td>1</td>\n",
              "      <td>2</td>\n",
              "      <td>113781</td>\n",
              "      <td>151.5500</td>\n",
              "      <td>C22 C26</td>\n",
              "      <td>S</td>\n",
              "      <td>NaN</td>\n",
              "      <td>NaN</td>\n",
              "      <td>Montreal, PQ / Chesterville, ON</td>\n",
              "    </tr>\n",
              "    <tr>\n",
              "      <th>3</th>\n",
              "      <td>1</td>\n",
              "      <td>0</td>\n",
              "      <td>Allison, Mr. Hudson Joshua Creighton</td>\n",
              "      <td>male</td>\n",
              "      <td>30.0000</td>\n",
              "      <td>1</td>\n",
              "      <td>2</td>\n",
              "      <td>113781</td>\n",
              "      <td>151.5500</td>\n",
              "      <td>C22 C26</td>\n",
              "      <td>S</td>\n",
              "      <td>NaN</td>\n",
              "      <td>135.0</td>\n",
              "      <td>Montreal, PQ / Chesterville, ON</td>\n",
              "    </tr>\n",
              "    <tr>\n",
              "      <th>4</th>\n",
              "      <td>1</td>\n",
              "      <td>0</td>\n",
              "      <td>Allison, Mrs. Hudson J C (Bessie Waldo Daniels)</td>\n",
              "      <td>female</td>\n",
              "      <td>25.0000</td>\n",
              "      <td>1</td>\n",
              "      <td>2</td>\n",
              "      <td>113781</td>\n",
              "      <td>151.5500</td>\n",
              "      <td>C22 C26</td>\n",
              "      <td>S</td>\n",
              "      <td>NaN</td>\n",
              "      <td>NaN</td>\n",
              "      <td>Montreal, PQ / Chesterville, ON</td>\n",
              "    </tr>\n",
              "  </tbody>\n",
              "</table>\n",
              "</div>"
            ],
            "text/plain": [
              "   pclass  survived  ...   body                        home.dest\n",
              "0       1         1  ...    NaN                     St Louis, MO\n",
              "1       1         1  ...    NaN  Montreal, PQ / Chesterville, ON\n",
              "2       1         0  ...    NaN  Montreal, PQ / Chesterville, ON\n",
              "3       1         0  ...  135.0  Montreal, PQ / Chesterville, ON\n",
              "4       1         0  ...    NaN  Montreal, PQ / Chesterville, ON\n",
              "\n",
              "[5 rows x 14 columns]"
            ]
          },
          "metadata": {},
          "execution_count": 2
        }
      ]
    },
    {
      "cell_type": "code",
      "metadata": {
        "id": "saa_0HOs_Crs"
      },
      "source": [
        "# Preprocess data using sklearn's Column Transformer approach\n",
        "\n",
        "# We create the preprocessing pipelines for both numeric and categorical data.\n",
        "numeric_features = ['age', 'fare']\n",
        "numeric_transformer = Pipeline(steps=[\n",
        "    ('imputer', SimpleImputer(strategy='median')),\n",
        "    ('scaler', StandardScaler())])\n",
        "\n",
        "categorical_features = ['embarked', 'sex', 'pclass']\n",
        "\n",
        "# Replacing missing values with Modal value and then one-hot encoding.\n",
        "categorical_transformer = Pipeline(steps=[\n",
        "    ('imputer', SimpleImputer(strategy='most_frequent')),\n",
        "    ('onehot', OneHotEncoder(handle_unknown='ignore'))])\n",
        "\n",
        "# Final preprocessor object set up with ColumnTransformer...\n",
        "\n",
        "preprocess = ColumnTransformer(\n",
        "    transformers=[\n",
        "        ('num', numeric_transformer, numeric_features),\n",
        "        ('cat', categorical_transformer, categorical_features)])\n",
        "\n",
        "# Target = survived\n",
        "y = data['survived']\n",
        "y = y.map({0: 'died', 1: 'survived'})\n",
        "\n",
        "X = data.drop(['survived','sibsp','parch','ticket','name','cabin','boat','body','home.dest'], axis=1)\n",
        "\n",
        "\n",
        "X_train, X_test, y_train, y_test = train_test_split(X, y, test_size=0.2)\n",
        "\n",
        "# fit preprocessor to your data\n",
        "preprocess = preprocess.fit(X_train)"
      ],
      "execution_count": 3,
      "outputs": []
    },
    {
      "cell_type": "code",
      "metadata": {
        "id": "f13wPZcKt6ew"
      },
      "source": [
        "# Write function to transform data with preprocessor\n",
        "\n",
        "def preprocessor(data):\n",
        "    preprocessed_data=preprocess.transform(data)\n",
        "    return preprocessed_data"
      ],
      "execution_count": 4,
      "outputs": []
    },
    {
      "cell_type": "code",
      "metadata": {
        "colab": {
          "base_uri": "https://localhost:8080/",
          "height": 423
        },
        "id": "PUS87JAc6m7h",
        "outputId": "37984104-01be-41bd-aa6c-9360c1ec6fa4"
      },
      "source": [
        "X_train"
      ],
      "execution_count": 5,
      "outputs": [
        {
          "output_type": "execute_result",
          "data": {
            "text/html": [
              "<div>\n",
              "<style scoped>\n",
              "    .dataframe tbody tr th:only-of-type {\n",
              "        vertical-align: middle;\n",
              "    }\n",
              "\n",
              "    .dataframe tbody tr th {\n",
              "        vertical-align: top;\n",
              "    }\n",
              "\n",
              "    .dataframe thead th {\n",
              "        text-align: right;\n",
              "    }\n",
              "</style>\n",
              "<table border=\"1\" class=\"dataframe\">\n",
              "  <thead>\n",
              "    <tr style=\"text-align: right;\">\n",
              "      <th></th>\n",
              "      <th>pclass</th>\n",
              "      <th>sex</th>\n",
              "      <th>age</th>\n",
              "      <th>fare</th>\n",
              "      <th>embarked</th>\n",
              "    </tr>\n",
              "  </thead>\n",
              "  <tbody>\n",
              "    <tr>\n",
              "      <th>1118</th>\n",
              "      <td>3</td>\n",
              "      <td>male</td>\n",
              "      <td>25.0000</td>\n",
              "      <td>7.9250</td>\n",
              "      <td>S</td>\n",
              "    </tr>\n",
              "    <tr>\n",
              "      <th>44</th>\n",
              "      <td>1</td>\n",
              "      <td>female</td>\n",
              "      <td>41.0000</td>\n",
              "      <td>134.5000</td>\n",
              "      <td>C</td>\n",
              "    </tr>\n",
              "    <tr>\n",
              "      <th>1072</th>\n",
              "      <td>3</td>\n",
              "      <td>male</td>\n",
              "      <td>NaN</td>\n",
              "      <td>7.7333</td>\n",
              "      <td>Q</td>\n",
              "    </tr>\n",
              "    <tr>\n",
              "      <th>1130</th>\n",
              "      <td>3</td>\n",
              "      <td>female</td>\n",
              "      <td>18.0000</td>\n",
              "      <td>7.7750</td>\n",
              "      <td>S</td>\n",
              "    </tr>\n",
              "    <tr>\n",
              "      <th>574</th>\n",
              "      <td>2</td>\n",
              "      <td>male</td>\n",
              "      <td>29.0000</td>\n",
              "      <td>21.0000</td>\n",
              "      <td>S</td>\n",
              "    </tr>\n",
              "    <tr>\n",
              "      <th>...</th>\n",
              "      <td>...</td>\n",
              "      <td>...</td>\n",
              "      <td>...</td>\n",
              "      <td>...</td>\n",
              "      <td>...</td>\n",
              "    </tr>\n",
              "    <tr>\n",
              "      <th>763</th>\n",
              "      <td>3</td>\n",
              "      <td>female</td>\n",
              "      <td>0.1667</td>\n",
              "      <td>20.5750</td>\n",
              "      <td>S</td>\n",
              "    </tr>\n",
              "    <tr>\n",
              "      <th>835</th>\n",
              "      <td>3</td>\n",
              "      <td>male</td>\n",
              "      <td>NaN</td>\n",
              "      <td>8.0500</td>\n",
              "      <td>S</td>\n",
              "    </tr>\n",
              "    <tr>\n",
              "      <th>1216</th>\n",
              "      <td>3</td>\n",
              "      <td>female</td>\n",
              "      <td>NaN</td>\n",
              "      <td>7.7333</td>\n",
              "      <td>Q</td>\n",
              "    </tr>\n",
              "    <tr>\n",
              "      <th>559</th>\n",
              "      <td>2</td>\n",
              "      <td>female</td>\n",
              "      <td>20.0000</td>\n",
              "      <td>36.7500</td>\n",
              "      <td>S</td>\n",
              "    </tr>\n",
              "    <tr>\n",
              "      <th>684</th>\n",
              "      <td>3</td>\n",
              "      <td>female</td>\n",
              "      <td>32.0000</td>\n",
              "      <td>15.5000</td>\n",
              "      <td>Q</td>\n",
              "    </tr>\n",
              "  </tbody>\n",
              "</table>\n",
              "<p>1047 rows × 5 columns</p>\n",
              "</div>"
            ],
            "text/plain": [
              "      pclass     sex      age      fare embarked\n",
              "1118       3    male  25.0000    7.9250        S\n",
              "44         1  female  41.0000  134.5000        C\n",
              "1072       3    male      NaN    7.7333        Q\n",
              "1130       3  female  18.0000    7.7750        S\n",
              "574        2    male  29.0000   21.0000        S\n",
              "...      ...     ...      ...       ...      ...\n",
              "763        3  female   0.1667   20.5750        S\n",
              "835        3    male      NaN    8.0500        S\n",
              "1216       3  female      NaN    7.7333        Q\n",
              "559        2  female  20.0000   36.7500        S\n",
              "684        3  female  32.0000   15.5000        Q\n",
              "\n",
              "[1047 rows x 5 columns]"
            ]
          },
          "metadata": {},
          "execution_count": 5
        }
      ]
    },
    {
      "cell_type": "code",
      "metadata": {
        "id": "wfQPzGdG92bt",
        "colab": {
          "base_uri": "https://localhost:8080/"
        },
        "outputId": "dcb7ab41-a347-49ff-dfb5-239de996d434"
      },
      "source": [
        "# Notice categorical feature columns have been one-hot encoded\n",
        "preprocessor(X_train).shape"
      ],
      "execution_count": 6,
      "outputs": [
        {
          "output_type": "execute_result",
          "data": {
            "text/plain": [
              "(1047, 10)"
            ]
          },
          "metadata": {},
          "execution_count": 6
        }
      ]
    },
    {
      "cell_type": "markdown",
      "metadata": {
        "id": "Yr19F1vtM8wy"
      },
      "source": [
        "## **(2) Building The Model Using `sklearn`**"
      ]
    },
    {
      "cell_type": "code",
      "metadata": {
        "id": "tW9AGI7RuHFo",
        "colab": {
          "base_uri": "https://localhost:8080/"
        },
        "outputId": "b4a8a707-17cf-4f25-fcad-2ad6141a97e5"
      },
      "source": [
        "print(X_train.shape, X_test.shape, \n",
        "      y_train.shape, y_test.shape)"
      ],
      "execution_count": 7,
      "outputs": [
        {
          "output_type": "stream",
          "name": "stdout",
          "text": [
            "(1047, 5) (262, 5) (1047,) (262,)\n"
          ]
        }
      ]
    },
    {
      "cell_type": "markdown",
      "metadata": {
        "id": "rz_CDo0WczOQ"
      },
      "source": [
        "## Logistic Classifier"
      ]
    },
    {
      "cell_type": "code",
      "metadata": {
        "id": "8Q5MUZBh1Rt8",
        "colab": {
          "base_uri": "https://localhost:8080/"
        },
        "outputId": "cbcd9019-7233-4b01-9700-575232c6ec5d"
      },
      "source": [
        "# Penalized Logit...\n",
        "\n",
        "hyperparameters = {'C':np.logspace(1, 10, 100), 'penalty':['l2']}\n",
        "\n",
        "logit = LogisticRegression()\n",
        "logit_cv = GridSearchCV(logit, hyperparameters, cv = 10)\n",
        "logit_cv.fit(preprocessor(X_train), y_train)\n",
        "\n",
        "print(\"Best Parameters {:.3f}: \", logit_cv.best_params_)"
      ],
      "execution_count": 8,
      "outputs": [
        {
          "output_type": "stream",
          "name": "stdout",
          "text": [
            "Best Parameters {:.3f}:  {'C': 10.0, 'penalty': 'l2'}\n"
          ]
        }
      ]
    },
    {
      "cell_type": "code",
      "metadata": {
        "colab": {
          "base_uri": "https://localhost:8080/"
        },
        "id": "MIZgHHfzAJvA",
        "outputId": "d5aaabe4-03b3-4d21-9f32-96bef5f85b55"
      },
      "source": [
        "logit_cv.best_estimator_"
      ],
      "execution_count": 9,
      "outputs": [
        {
          "output_type": "execute_result",
          "data": {
            "text/plain": [
              "LogisticRegression(C=10.0)"
            ]
          },
          "metadata": {},
          "execution_count": 9
        }
      ]
    },
    {
      "cell_type": "code",
      "metadata": {
        "id": "-NHxh8nyuHZm",
        "colab": {
          "base_uri": "https://localhost:8080/"
        },
        "outputId": "aa2847a6-fb7d-491c-affc-aeaecb9d5e38"
      },
      "source": [
        "model = LogisticRegression(C=10, penalty='l2')\n",
        "\n",
        "model.fit(preprocessor(X_train), y_train) # Fitting to the training set.\n",
        "\n",
        "model.score(preprocessor(X_train), y_train) # Fit score, 0-1 scale."
      ],
      "execution_count": 12,
      "outputs": [
        {
          "output_type": "execute_result",
          "data": {
            "text/plain": [
              "0.7793696275071633"
            ]
          },
          "metadata": {},
          "execution_count": 12
        }
      ]
    },
    {
      "cell_type": "code",
      "metadata": {
        "id": "mk8cP1d44gqa"
      },
      "source": [
        "y_pred = model.predict(preprocessor(X_test))\n",
        "\n",
        "y_pred"
      ],
      "execution_count": null,
      "outputs": []
    },
    {
      "cell_type": "code",
      "metadata": {
        "id": "vlF8MmPvuHMv",
        "colab": {
          "base_uri": "https://localhost:8080/"
        },
        "outputId": "80620c80-a622-4c92-eedf-dfb98a05af78"
      },
      "source": [
        "# Evaluate held out test data\n",
        "from sklearn.metrics import accuracy_score\n",
        "\n",
        "print(\"Accuracy: {:.2f}%\".format(accuracy_score(y_test, y_pred) * 100))"
      ],
      "execution_count": 14,
      "outputs": [
        {
          "output_type": "stream",
          "name": "stdout",
          "text": [
            "Accuracy: 79.01%\n"
          ]
        }
      ]
    },
    {
      "cell_type": "markdown",
      "metadata": {
        "id": "_u4j3Ghx0LBm"
      },
      "source": [
        "## Extreme Gradiet Boosting (using same preprocessor fxn)"
      ]
    },
    {
      "cell_type": "code",
      "metadata": {
        "colab": {
          "base_uri": "https://localhost:8080/"
        },
        "id": "cFzgyOcj0RI0",
        "outputId": "7576a15e-4003-4bef-aae4-4ee13ef72779"
      },
      "source": [
        "#train an xgboost model\n",
        "\n",
        "import xgboost as xgb\n",
        "\n",
        "model = xgb.XGBClassifier(objective=\"binary:logistic\", n_estimators=50, seed=123)\n",
        "\n",
        "model.fit(preprocessor(X_train), y_train)\n",
        "\n",
        "model.score(preprocessor(X_train), y_train)\n"
      ],
      "execution_count": 17,
      "outputs": [
        {
          "output_type": "execute_result",
          "data": {
            "text/plain": [
              "0.833810888252149"
            ]
          },
          "metadata": {},
          "execution_count": 17
        }
      ]
    },
    {
      "cell_type": "code",
      "metadata": {
        "id": "FjR70X4O1snN"
      },
      "source": [
        "#predictions using xgboost\n",
        "\n",
        "y_pred = model.predict(preprocessor(X_test))\n",
        "\n",
        "y_pred"
      ],
      "execution_count": null,
      "outputs": []
    },
    {
      "cell_type": "code",
      "metadata": {
        "colab": {
          "base_uri": "https://localhost:8080/"
        },
        "id": "w8Lnju7e148G",
        "outputId": "71241e0f-ac87-4297-919b-76cb7366102b"
      },
      "source": [
        "#evaluate model using test data\n",
        "\n",
        "print(\"Accuracy:  {:.2f}%\".format(accuracy_score(y_test, y_pred) * 100))"
      ],
      "execution_count": 20,
      "outputs": [
        {
          "output_type": "stream",
          "name": "stdout",
          "text": [
            "Accuracy:  81.68%\n"
          ]
        }
      ]
    },
    {
      "cell_type": "markdown",
      "metadata": {
        "id": "jQqadm6nEtRY"
      },
      "source": [
        "## Deep learning example (using same preprocessor fxn)"
      ]
    },
    {
      "cell_type": "code",
      "metadata": {
        "colab": {
          "base_uri": "https://localhost:8080/"
        },
        "id": "tMqvaNMZE1aP",
        "outputId": "020db66d-8d33-4eed-8a4c-3b5edbdc93e2"
      },
      "source": [
        "import keras\n",
        "model = keras.Sequential([\n",
        "    keras.layers.Dense(100, input_dim=10, activation='relu'),\n",
        "    keras.layers.Dense(100, activation='relu'),\n",
        "    keras.layers.Dense(2)\n",
        "])\n",
        "\n",
        "\n",
        "model.compile(loss='binary_crossentropy', optimizer='sgd', metrics=['accuracy'])\n",
        "\n",
        "# Fitting the ANN to the Training set...\n",
        "model.fit(preprocessor(X_train), pd.get_dummies(y_train), epochs=30, verbose=2)"
      ],
      "execution_count": 21,
      "outputs": [
        {
          "output_type": "stream",
          "name": "stderr",
          "text": [
            "Using TensorFlow backend.\n"
          ]
        },
        {
          "output_type": "stream",
          "name": "stdout",
          "text": [
            "WARNING:tensorflow:From /tensorflow-1.15.2/python3.7/tensorflow_core/python/ops/resource_variable_ops.py:1630: calling BaseResourceVariable.__init__ (from tensorflow.python.ops.resource_variable_ops) with constraint is deprecated and will be removed in a future version.\n",
            "Instructions for updating:\n",
            "If using Keras pass *_constraint arguments to layers.\n",
            "WARNING:tensorflow:From /tensorflow-1.15.2/python3.7/tensorflow_core/python/ops/math_grad.py:1424: where (from tensorflow.python.ops.array_ops) is deprecated and will be removed in a future version.\n",
            "Instructions for updating:\n",
            "Use tf.where in 2.0, which has the same broadcast rule as np.where\n",
            "WARNING:tensorflow:From /tensorflow-1.15.2/python3.7/keras/backend/tensorflow_backend.py:422: The name tf.global_variables is deprecated. Please use tf.compat.v1.global_variables instead.\n",
            "\n",
            "Epoch 1/30\n",
            " - 0s - loss: 3.0949 - accuracy: 0.5798\n",
            "Epoch 2/30\n",
            " - 0s - loss: 1.1747 - accuracy: 0.6466\n",
            "Epoch 3/30\n",
            " - 0s - loss: 0.6709 - accuracy: 0.7278\n",
            "Epoch 4/30\n",
            " - 0s - loss: 0.5637 - accuracy: 0.7436\n",
            "Epoch 5/30\n",
            " - 0s - loss: 0.5201 - accuracy: 0.7569\n",
            "Epoch 6/30\n",
            " - 0s - loss: 0.5071 - accuracy: 0.7646\n",
            "Epoch 7/30\n",
            " - 0s - loss: 0.5001 - accuracy: 0.7722\n",
            "Epoch 8/30\n",
            " - 0s - loss: 0.4947 - accuracy: 0.7703\n",
            "Epoch 9/30\n",
            " - 0s - loss: 0.4905 - accuracy: 0.7713\n",
            "Epoch 10/30\n",
            " - 0s - loss: 0.4904 - accuracy: 0.7775\n",
            "Epoch 11/30\n",
            " - 0s - loss: 0.4903 - accuracy: 0.7775\n",
            "Epoch 12/30\n",
            " - 0s - loss: 0.4910 - accuracy: 0.7794\n",
            "Epoch 13/30\n",
            " - 0s - loss: 0.4852 - accuracy: 0.7861\n",
            "Epoch 14/30\n",
            " - 0s - loss: 0.4752 - accuracy: 0.7789\n",
            "Epoch 15/30\n",
            " - 0s - loss: 0.4749 - accuracy: 0.7884\n",
            "Epoch 16/30\n",
            " - 0s - loss: 0.4715 - accuracy: 0.7899\n",
            "Epoch 17/30\n",
            " - 0s - loss: 0.4669 - accuracy: 0.7913\n",
            "Epoch 18/30\n",
            " - 0s - loss: 0.4665 - accuracy: 0.7932\n",
            "Epoch 19/30\n",
            " - 0s - loss: 0.4668 - accuracy: 0.7923\n",
            "Epoch 20/30\n",
            " - 0s - loss: 0.4630 - accuracy: 0.8028\n",
            "Epoch 21/30\n",
            " - 0s - loss: 0.4625 - accuracy: 0.8023\n",
            "Epoch 22/30\n",
            " - 0s - loss: 0.4620 - accuracy: 0.7999\n",
            "Epoch 23/30\n",
            " - 0s - loss: 0.4596 - accuracy: 0.7980\n",
            "Epoch 24/30\n",
            " - 0s - loss: 0.4603 - accuracy: 0.7985\n",
            "Epoch 25/30\n",
            " - 0s - loss: 0.4564 - accuracy: 0.7994\n",
            "Epoch 26/30\n",
            " - 0s - loss: 0.4576 - accuracy: 0.7999\n",
            "Epoch 27/30\n",
            " - 0s - loss: 0.4572 - accuracy: 0.8023\n",
            "Epoch 28/30\n",
            " - 0s - loss: 0.4564 - accuracy: 0.7999\n",
            "Epoch 29/30\n",
            " - 0s - loss: 0.4569 - accuracy: 0.8018\n",
            "Epoch 30/30\n",
            " - 0s - loss: 0.4534 - accuracy: 0.8023\n"
          ]
        },
        {
          "output_type": "execute_result",
          "data": {
            "text/plain": [
              "<keras.callbacks.callbacks.History at 0x7f3082de4890>"
            ]
          },
          "metadata": {},
          "execution_count": 21
        }
      ]
    },
    {
      "cell_type": "code",
      "metadata": {
        "colab": {
          "base_uri": "https://localhost:8080/"
        },
        "id": "HLYFdzTsGLc3",
        "outputId": "dd90a1f2-2a75-4b1b-bc78-d8c8474b5532"
      },
      "source": [
        "pred_prob = model.predict(preprocessor(X_test))\n",
        "prediction_index = list([np.argmax(i) for i in pred_prob])\n",
        "labels = ['died', 'survived']\n",
        "\n",
        "predictions_keras=[]\n",
        "for i in prediction_index:\n",
        " predictions_keras.append(labels[i])\n",
        "\n",
        "predictions_keras[0:4]"
      ],
      "execution_count": 22,
      "outputs": [
        {
          "output_type": "execute_result",
          "data": {
            "text/plain": [
              "['died', 'survived', 'died', 'died']"
            ]
          },
          "metadata": {},
          "execution_count": 22
        }
      ]
    },
    {
      "cell_type": "code",
      "metadata": {
        "colab": {
          "base_uri": "https://localhost:8080/"
        },
        "id": "uN70RvN7LfyD",
        "outputId": "d7b6c2f1-4f27-4fe2-bc27-1aa609aa5c8c"
      },
      "source": [
        "# Evaluate held out test data\n",
        "from sklearn.metrics import accuracy_score\n",
        "\n",
        "print(\"Accuracy: {:.2f}%\".format(accuracy_score(y_test, predictions_keras) * 100)) #test\n"
      ],
      "execution_count": 23,
      "outputs": [
        {
          "output_type": "stream",
          "name": "stdout",
          "text": [
            "Accuracy: 79.39%\n"
          ]
        }
      ]
    }
  ]
}